{
 "cells": [
  {
   "cell_type": "code",
   "execution_count": 30,
   "metadata": {},
   "outputs": [],
   "source": [
    "import os\n",
    "# import pandas as pd\n",
    "# import psycopg2\n",
    "# import sqlalchemy as sqla\n",
    "# from dotenv import load_dotenv, find_dotenv\n",
    "# load_dotenv(find_dotenv())\n",
    "import sql as gd"
   ]
  },
  {
   "cell_type": "code",
   "execution_count": 2,
   "metadata": {},
   "outputs": [
    {
     "name": "stdout",
     "output_type": "stream",
     "text": [
      "64CjIlzDWuV9BivO\n"
     ]
    }
   ],
   "source": [
    "print(os.getenv('password'))"
   ]
  },
  {
   "cell_type": "code",
   "execution_count": 34,
   "metadata": {},
   "outputs": [
    {
     "name": "stderr",
     "output_type": "stream",
     "text": [
      "/opt/homebrew/Caskroom/miniconda/base/envs/sql-practice/lib/python3.9/site-packages/pandas/io/sql.py:761: UserWarning: pandas only support SQLAlchemy connectable(engine/connection) ordatabase string URI or sqlite3 DBAPI2 connectionother DBAPI2 objects are not tested, please consider using SQLAlchemy\n",
      "  warnings.warn(\n"
     ]
    },
    {
     "data": {
      "text/html": [
       "<div>\n",
       "<style scoped>\n",
       "    .dataframe tbody tr th:only-of-type {\n",
       "        vertical-align: middle;\n",
       "    }\n",
       "\n",
       "    .dataframe tbody tr th {\n",
       "        vertical-align: top;\n",
       "    }\n",
       "\n",
       "    .dataframe thead th {\n",
       "        text-align: right;\n",
       "    }\n",
       "</style>\n",
       "<table border=\"1\" class=\"dataframe\">\n",
       "  <thead>\n",
       "    <tr style=\"text-align: right;\">\n",
       "      <th></th>\n",
       "      <th>faa</th>\n",
       "      <th>lat</th>\n",
       "      <th>lon</th>\n",
       "    </tr>\n",
       "  </thead>\n",
       "  <tbody>\n",
       "    <tr>\n",
       "      <th>0</th>\n",
       "      <td>DCA</td>\n",
       "      <td>38.852100</td>\n",
       "      <td>-77.037697</td>\n",
       "    </tr>\n",
       "    <tr>\n",
       "      <th>1</th>\n",
       "      <td>LGA</td>\n",
       "      <td>40.777199</td>\n",
       "      <td>-73.872597</td>\n",
       "    </tr>\n",
       "    <tr>\n",
       "      <th>2</th>\n",
       "      <td>IAD</td>\n",
       "      <td>38.944500</td>\n",
       "      <td>-77.455803</td>\n",
       "    </tr>\n",
       "    <tr>\n",
       "      <th>3</th>\n",
       "      <td>JFK</td>\n",
       "      <td>40.639801</td>\n",
       "      <td>-73.778900</td>\n",
       "    </tr>\n",
       "  </tbody>\n",
       "</table>\n",
       "</div>"
      ],
      "text/plain": [
       "   faa        lat        lon\n",
       "0  DCA  38.852100 -77.037697\n",
       "1  LGA  40.777199 -73.872597\n",
       "2  IAD  38.944500 -77.455803\n",
       "3  JFK  40.639801 -73.778900"
      ]
     },
     "execution_count": 34,
     "metadata": {},
     "output_type": "execute_result"
    }
   ],
   "source": [
    "# # join airports with flights_faso\n",
    "# all = gd.get_data('SELECT * FROM flights_faso INNER JOIN airports on airports.faa=flights_faso.origin')\n",
    "# all.head()\n",
    "# fa_selected = all.query('faa == \"DCA\" or faa == \"IAD\" or faa == \"LGA\" or faa == \"JFK\"')\n",
    "# # ['JFK', 'IAD', 'LGA', 'DCA']\n",
    "\n",
    "points = gd.get_data(\"SELECT faa, lat,lon FROM airports WHERE faa in ('JFK', 'IAD', 'LGA', 'DCA')\")\n",
    "points\n"
   ]
  },
  {
   "cell_type": "code",
   "execution_count": null,
   "metadata": {},
   "outputs": [],
   "source": [
    "api = '06cc1bc58bmsh6b0e697965add32p1e5320jsnf3103b779dfa'\n",
    "\n",
    "curl --request GET \\\n",
    "\t--url 'https://meteostat.p.rapidapi.com/stations/meta?id=10637' \\\n",
    "\t--header 'x-rapidapi-host: meteostat.p.rapidapi.com' \\\n",
    "\t--header 'x-rapidapi-key: {06cc1bc58bmsh6b0e697965add32p1e5320jsnf3103b779dfa}'"
   ]
  },
  {
   "cell_type": "code",
   "execution_count": 10,
   "metadata": {},
   "outputs": [
    {
     "name": "stdout",
     "output_type": "stream",
     "text": [
      "{\"meta\":{\"generated\": \"2022-05-05 14:31:45\", \"stations\": [\"KNYC0\", \"72502\", \"KTEB0\", \"74486\"]},\"data\":[{\"date\":\"2012-10-29\",\"tavg\":14.5,\"tmin\":12.2,\"tmax\":17.8,\"prcp\":15.2,\"snow\":0.0,\"wdir\":35.0,\"wspd\":54.7,\"wpgt\":null,\"pres\":null,\"tsun\":null}]}\n"
     ]
    },
    {
     "data": {
      "text/plain": [
       "requests.models.Response"
      ]
     },
     "execution_count": 10,
     "metadata": {},
     "output_type": "execute_result"
    }
   ],
   "source": [
    "import requests\n",
    "\n",
    "url = \"https://meteostat.p.rapidapi.com/point/daily\"\n",
    "\n",
    "querystring = {\"lat\": \"40.77719879\",\"lon\": \"-73.87259674\",\"start\":\"2012-10-29\",\"end\":\"2012-10-29\"}\n",
    "# https://meteostat.p.rapidapi.com/point/daily?lat=43.6667&lon=-79.4&start=2020-01-01&end=2020-01-31&alt=184'\n",
    "headers = {\n",
    "\t\"X-RapidAPI-Host\": \"meteostat.p.rapidapi.com\",\n",
    "\t\"X-RapidAPI-Key\": \"\"\n",
    "}\n",
    "response = requests.request(\"GET\", url, headers=headers, params=querystring)\n",
    "\n",
    "print(response.text)\n",
    "type(response)"
   ]
  },
  {
   "cell_type": "code",
   "execution_count": 11,
   "metadata": {},
   "outputs": [
    {
     "name": "stdout",
     "output_type": "stream",
     "text": [
      "{\n",
      "  \"meta\": {\n",
      "    \"generated\": \"2022-05-05 14:31:45\",\n",
      "    \"stations\": [\n",
      "      \"KNYC0\",\n",
      "      \"72502\",\n",
      "      \"KTEB0\",\n",
      "      \"74486\"\n",
      "    ]\n",
      "  },\n",
      "  \"data\": [\n",
      "    {\n",
      "      \"date\": \"2012-10-29\",\n",
      "      \"tavg\": 14.5,\n",
      "      \"tmin\": 12.2,\n",
      "      \"tmax\": 17.8,\n",
      "      \"prcp\": 15.2,\n",
      "      \"snow\": 0.0,\n",
      "      \"wdir\": 35.0,\n",
      "      \"wspd\": 54.7,\n",
      "      \"wpgt\": null,\n",
      "      \"pres\": null,\n",
      "      \"tsun\": null\n",
      "    }\n",
      "  ]\n",
      "}\n"
     ]
    }
   ],
   "source": [
    "import json\n",
    "\n",
    "print(json.dumps(response.json(), indent=2))"
   ]
  },
  {
   "cell_type": "code",
   "execution_count": null,
   "metadata": {},
   "outputs": [],
   "source": [
    "_df = pd.json_normalize(weather_hh, \n",
    "                                  sep=\"_\", \n",
    "                                  record_path=\"weather\", \n",
    "                                  meta=[[\"coord\", \"lon\"], \n",
    "                                        [\"coord\", \"lat\"], \n",
    "                                        \"base\",\n",
    "                                        [\"main\", \"temp\"],\n",
    "                                        [\"main\", \"feels_like\"],\n",
    "                                        [\"main\", \"temp_min\"],\n",
    "                                        [\"main\", \"temp_max\"], \n",
    "                                        [\"main\", \"pressure\"], \n",
    "                                        [\"main\", \"humidity\"], \n",
    "                                        \"visibility\", \n",
    "                                        [\"wind\", \"speed\"], \n",
    "                                        [\"wind\", \"deg\"], \n",
    "                                        [\"clouds\", \"all\"], \n",
    "                                        \"dt\", \n",
    "                                        [\"sys\", \"type\"], \n",
    "                                        [\"sys\", \"id\"],\n",
    "                                        [\"sys\", \"country\"],\n",
    "                                        [\"sys\", \"sunrise\"],\n",
    "                                        [\"sys\", \"sunset\"],\n",
    "                                        \"timezone\",\n",
    "                                        \"id\",\n",
    "                                        \"name\",\n",
    "                                        \"cod\"], \n",
    "                                  record_prefix=\"weather_\")"
   ]
  }
 ],
 "metadata": {
  "interpreter": {
   "hash": "43c12cbf984401a473fdf5ad54be096b36364cb85034417d000695974821cc3f"
  },
  "kernelspec": {
   "display_name": "Python 3.9.12 ('sql-practice')",
   "language": "python",
   "name": "python3"
  },
  "language_info": {
   "codemirror_mode": {
    "name": "ipython",
    "version": 3
   },
   "file_extension": ".py",
   "mimetype": "text/x-python",
   "name": "python",
   "nbconvert_exporter": "python",
   "pygments_lexer": "ipython3",
   "version": "3.9.12"
  },
  "orig_nbformat": 4
 },
 "nbformat": 4,
 "nbformat_minor": 2
}
